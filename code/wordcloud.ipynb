{
  "nbformat": 4,
  "nbformat_minor": 0,
  "metadata": {
    "colab": {
      "name": "wordcloud",
      "provenance": [],
      "collapsed_sections": []
    },
    "kernelspec": {
      "name": "python3",
      "display_name": "Python 3"
    },
    "language_info": {
      "name": "python"
    }
  },
  "cells": [
    {
      "cell_type": "code",
      "execution_count": 1,
      "metadata": {
        "id": "sj7M2dYPcRJ5"
      },
      "outputs": [],
      "source": [
        "import pickle\n",
        "import torch\n",
        "import numpy as np\n",
        "import pandas as pd\n",
        "import matplotlib.pyplot as plt\n",
        "from wordcloud import WordCloud"
      ]
    },
    {
      "cell_type": "code",
      "source": [
        "from google.colab import drive\n",
        "drive.mount('/content/drive')"
      ],
      "metadata": {
        "id": "EAJcjWApm-ND"
      },
      "execution_count": null,
      "outputs": []
    },
    {
      "cell_type": "code",
      "source": [
        "arr=[\"business\",\"tech\",\"sport\",\"politics\",\"entertainment\"]"
      ],
      "metadata": {
        "id": "W3e0Lg0ICTsO"
      },
      "execution_count": 8,
      "outputs": []
    },
    {
      "cell_type": "code",
      "source": [
        "uni1=pd.DataFrame(pd.read_csv('/content/drive/MyDrive/colab/bigram_fre.csv'))\n",
        "uni2=pd.DataFrame(pd.read_csv('/content/drive/MyDrive/colab/tfidf_bigram_fre.csv'))"
      ],
      "metadata": {
        "id": "n81ZM2L2Cq-x"
      },
      "execution_count": 40,
      "outputs": []
    },
    {
      "cell_type": "code",
      "source": [
        "for key_lb in arr:\n",
        "  data1=np.array(uni1[uni1['domain']==key_lb][\"keyword\"])\n",
        "  w1=np.array(uni1[uni1['domain']==key_lb][\"att-score\"])\n",
        "  w1=w1/np.max(w1)\n",
        "  data2=np.array(uni2[uni2['domain']==key_lb][\"keyword\"])\n",
        "  w2=np.array(uni2[uni2['domain']==key_lb][\"tfidf-score\"])\n",
        "  w2=w2/np.max(w2)\n",
        "  text1={}\n",
        "  text2={}\n",
        "  for i in range(len(data1)):\n",
        "    text1[data1[i]]=w1[i]\n",
        "  for i in range(len(data2)):\n",
        "    text2[data2[i]]=w2[i]\n",
        "\n",
        "  wc = WordCloud(background_color='white',max_words=100, width = 300, height=300, margin=2)\n",
        "  wc.fit_words(text1)\n",
        "  wc.to_file('/content/drive/MyDrive/colab/images/att_bi_'+str(key_lb)+'_.png')\n",
        "\n",
        "  wc = WordCloud(background_color='white',max_words=100, width = 300, height=300, margin=2)\n",
        "  wc.fit_words(text2)\n",
        "  wc.to_file('/content/drive/MyDrive/colab/images/tfidf_bi_'+str(key_lb)+'_.png')\n"
      ],
      "metadata": {
        "id": "W9TlouLuCFNw"
      },
      "execution_count": 41,
      "outputs": []
    }
  ]
}