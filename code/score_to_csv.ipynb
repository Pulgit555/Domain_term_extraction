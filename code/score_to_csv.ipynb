{
  "nbformat": 4,
  "nbformat_minor": 0,
  "metadata": {
    "colab": {
      "name": "wordcloud",
      "provenance": []
    },
    "kernelspec": {
      "name": "python3",
      "display_name": "Python 3"
    },
    "language_info": {
      "name": "python"
    }
  },
  "cells": [
    {
      "cell_type": "code",
      "execution_count": null,
      "metadata": {
        "id": "sj7M2dYPcRJ5"
      },
      "outputs": [],
      "source": [
        "import pickle\n",
        "import torch\n",
        "import numpy as np\n",
        "import pandas as pd\n"
      ]
    },
    {
      "cell_type": "code",
      "source": [
        "from google.colab import drive\n",
        "drive.mount('/content/drive')"
      ],
      "metadata": {
        "colab": {
          "base_uri": "https://localhost:8080/"
        },
        "id": "y5y9tG_pclac",
        "outputId": "568d2466-a20f-4478-ea1c-2a045130e73f"
      },
      "execution_count": null,
      "outputs": [
        {
          "output_type": "stream",
          "name": "stdout",
          "text": [
            "Mounted at /content/drive\n"
          ]
        }
      ]
    },
    {
      "cell_type": "code",
      "source": [
        "path_t=\"/content/drive/MyDrive/colab/trigram.csv\"\n",
        "path_b=\"/content/drive/MyDrive/colab/bigram.csv\"\n",
        "path_u=\"/content/drive/MyDrive/colab/unigram.csv\""
      ],
      "metadata": {
        "id": "l0EGc0vYcmoo"
      },
      "execution_count": null,
      "outputs": []
    },
    {
      "cell_type": "code",
      "source": [
        "uni=pd.DataFrame(pd.read_csv(path_t))"
      ],
      "metadata": {
        "id": "5Aae5_bdle3Z"
      },
      "execution_count": null,
      "outputs": []
    },
    {
      "cell_type": "code",
      "source": [
        "ff=\"tech\""
      ],
      "metadata": {
        "id": "vI_IaZ8_uaLT"
      },
      "execution_count": null,
      "outputs": []
    },
    {
      "cell_type": "code",
      "source": [
        "uni_b=uni[uni[\"domain\"]==ff]\n",
        "len(uni_b.keyword.unique())"
      ],
      "metadata": {
        "colab": {
          "base_uri": "https://localhost:8080/"
        },
        "id": "2quUkDAmlzNh",
        "outputId": "994e3587-3949-4c35-cbcb-3a6452ba9b01"
      },
      "execution_count": null,
      "outputs": [
        {
          "output_type": "execute_result",
          "data": {
            "text/plain": [
              "4926"
            ]
          },
          "metadata": {},
          "execution_count": 122
        }
      ]
    },
    {
      "cell_type": "code",
      "source": [
        "for i in uni:\n",
        "  print(i)"
      ],
      "metadata": {
        "colab": {
          "base_uri": "https://localhost:8080/"
        },
        "id": "vh5YviFxrSX9",
        "outputId": "37c99c7e-d4e9-426f-afab-84371e594c5d"
      },
      "execution_count": null,
      "outputs": [
        {
          "output_type": "stream",
          "name": "stdout",
          "text": [
            "Unnamed: 0\n",
            "n-gram\n",
            "domain\n",
            "keyword\n",
            "att-score\n"
          ]
        }
      ]
    },
    {
      "cell_type": "code",
      "source": [
        "dic={}\n",
        "for ind in uni_b.index:\n",
        "  if uni_b['keyword'][ind] not in dic:\n",
        "    dic[uni_b['keyword'][ind]]=[0,0]\n",
        "  dic[uni_b['keyword'][ind]][0]+=1\n",
        "  dic[uni_b['keyword'][ind]][1]+=uni_b['att-score'][ind]"
      ],
      "metadata": {
        "id": "tp3OfHsUqvJi"
      },
      "execution_count": null,
      "outputs": []
    },
    {
      "cell_type": "code",
      "source": [
        "di={}"
      ],
      "metadata": {
        "id": "iO2F0PNosBsD"
      },
      "execution_count": null,
      "outputs": []
    },
    {
      "cell_type": "code",
      "source": [
        "arr=[]\n",
        "for i in dic.keys():\n",
        "  arr.append((i,dic[i]))\n",
        "arr=sorted(arr, key=lambda x: x[1],reverse=True)"
      ],
      "metadata": {
        "id": "07TK0U4dsowW"
      },
      "execution_count": null,
      "outputs": []
    },
    {
      "cell_type": "code",
      "source": [
        "label=[]\n",
        "ngram=[]\n",
        "keywd=[]\n",
        "freqq=[]\n",
        "alpha=[]"
      ],
      "metadata": {
        "id": "uZi42thXtu9U"
      },
      "execution_count": null,
      "outputs": []
    },
    {
      "cell_type": "code",
      "source": [
        "for j in arr:\n",
        "  label.append(ff)\n",
        "  ngram.append(\"3-gram\")\n",
        "  keywd.append(j[0])\n",
        "  freqq.append(j[1][0])\n",
        "  alpha.append(j[1][1])\n"
      ],
      "metadata": {
        "id": "oLGhd0BgdiZ5"
      },
      "execution_count": null,
      "outputs": []
    },
    {
      "cell_type": "code",
      "source": [
        "data = {'n-gram': ngram, 'domain': label,'keyword':keywd,'frequency':freqq,'att-score':alpha}\n",
        "df = pd.DataFrame(data)\n",
        "df.head()"
      ],
      "metadata": {
        "colab": {
          "base_uri": "https://localhost:8080/",
          "height": 206
        },
        "id": "GvJy2mmGelVM",
        "outputId": "6dfcd8d3-51f9-4fa8-c613-a09e3716532d"
      },
      "execution_count": null,
      "outputs": [
        {
          "output_type": "execute_result",
          "data": {
            "text/plain": [
              "   n-gram    domain                         keyword  frequency  att-score\n",
              "0  3-gram  business  securities exchange commission         19   0.731171\n",
              "1  3-gram  business                     bn euros bn         19   0.492251\n",
              "2  3-gram  business           london stock exchange         17   0.570362\n",
              "3  3-gram  business             reuters news agency         15   0.475226\n",
              "4  3-gram  business                     euros bn bn         13   0.491524"
            ],
            "text/html": [
              "\n",
              "  <div id=\"df-3d851392-a94c-4bac-8a84-8fca49eb7573\">\n",
              "    <div class=\"colab-df-container\">\n",
              "      <div>\n",
              "<style scoped>\n",
              "    .dataframe tbody tr th:only-of-type {\n",
              "        vertical-align: middle;\n",
              "    }\n",
              "\n",
              "    .dataframe tbody tr th {\n",
              "        vertical-align: top;\n",
              "    }\n",
              "\n",
              "    .dataframe thead th {\n",
              "        text-align: right;\n",
              "    }\n",
              "</style>\n",
              "<table border=\"1\" class=\"dataframe\">\n",
              "  <thead>\n",
              "    <tr style=\"text-align: right;\">\n",
              "      <th></th>\n",
              "      <th>n-gram</th>\n",
              "      <th>domain</th>\n",
              "      <th>keyword</th>\n",
              "      <th>frequency</th>\n",
              "      <th>att-score</th>\n",
              "    </tr>\n",
              "  </thead>\n",
              "  <tbody>\n",
              "    <tr>\n",
              "      <th>0</th>\n",
              "      <td>3-gram</td>\n",
              "      <td>business</td>\n",
              "      <td>securities exchange commission</td>\n",
              "      <td>19</td>\n",
              "      <td>0.731171</td>\n",
              "    </tr>\n",
              "    <tr>\n",
              "      <th>1</th>\n",
              "      <td>3-gram</td>\n",
              "      <td>business</td>\n",
              "      <td>bn euros bn</td>\n",
              "      <td>19</td>\n",
              "      <td>0.492251</td>\n",
              "    </tr>\n",
              "    <tr>\n",
              "      <th>2</th>\n",
              "      <td>3-gram</td>\n",
              "      <td>business</td>\n",
              "      <td>london stock exchange</td>\n",
              "      <td>17</td>\n",
              "      <td>0.570362</td>\n",
              "    </tr>\n",
              "    <tr>\n",
              "      <th>3</th>\n",
              "      <td>3-gram</td>\n",
              "      <td>business</td>\n",
              "      <td>reuters news agency</td>\n",
              "      <td>15</td>\n",
              "      <td>0.475226</td>\n",
              "    </tr>\n",
              "    <tr>\n",
              "      <th>4</th>\n",
              "      <td>3-gram</td>\n",
              "      <td>business</td>\n",
              "      <td>euros bn bn</td>\n",
              "      <td>13</td>\n",
              "      <td>0.491524</td>\n",
              "    </tr>\n",
              "  </tbody>\n",
              "</table>\n",
              "</div>\n",
              "      <button class=\"colab-df-convert\" onclick=\"convertToInteractive('df-3d851392-a94c-4bac-8a84-8fca49eb7573')\"\n",
              "              title=\"Convert this dataframe to an interactive table.\"\n",
              "              style=\"display:none;\">\n",
              "        \n",
              "  <svg xmlns=\"http://www.w3.org/2000/svg\" height=\"24px\"viewBox=\"0 0 24 24\"\n",
              "       width=\"24px\">\n",
              "    <path d=\"M0 0h24v24H0V0z\" fill=\"none\"/>\n",
              "    <path d=\"M18.56 5.44l.94 2.06.94-2.06 2.06-.94-2.06-.94-.94-2.06-.94 2.06-2.06.94zm-11 1L8.5 8.5l.94-2.06 2.06-.94-2.06-.94L8.5 2.5l-.94 2.06-2.06.94zm10 10l.94 2.06.94-2.06 2.06-.94-2.06-.94-.94-2.06-.94 2.06-2.06.94z\"/><path d=\"M17.41 7.96l-1.37-1.37c-.4-.4-.92-.59-1.43-.59-.52 0-1.04.2-1.43.59L10.3 9.45l-7.72 7.72c-.78.78-.78 2.05 0 2.83L4 21.41c.39.39.9.59 1.41.59.51 0 1.02-.2 1.41-.59l7.78-7.78 2.81-2.81c.8-.78.8-2.07 0-2.86zM5.41 20L4 18.59l7.72-7.72 1.47 1.35L5.41 20z\"/>\n",
              "  </svg>\n",
              "      </button>\n",
              "      \n",
              "  <style>\n",
              "    .colab-df-container {\n",
              "      display:flex;\n",
              "      flex-wrap:wrap;\n",
              "      gap: 12px;\n",
              "    }\n",
              "\n",
              "    .colab-df-convert {\n",
              "      background-color: #E8F0FE;\n",
              "      border: none;\n",
              "      border-radius: 50%;\n",
              "      cursor: pointer;\n",
              "      display: none;\n",
              "      fill: #1967D2;\n",
              "      height: 32px;\n",
              "      padding: 0 0 0 0;\n",
              "      width: 32px;\n",
              "    }\n",
              "\n",
              "    .colab-df-convert:hover {\n",
              "      background-color: #E2EBFA;\n",
              "      box-shadow: 0px 1px 2px rgba(60, 64, 67, 0.3), 0px 1px 3px 1px rgba(60, 64, 67, 0.15);\n",
              "      fill: #174EA6;\n",
              "    }\n",
              "\n",
              "    [theme=dark] .colab-df-convert {\n",
              "      background-color: #3B4455;\n",
              "      fill: #D2E3FC;\n",
              "    }\n",
              "\n",
              "    [theme=dark] .colab-df-convert:hover {\n",
              "      background-color: #434B5C;\n",
              "      box-shadow: 0px 1px 3px 1px rgba(0, 0, 0, 0.15);\n",
              "      filter: drop-shadow(0px 1px 2px rgba(0, 0, 0, 0.3));\n",
              "      fill: #FFFFFF;\n",
              "    }\n",
              "  </style>\n",
              "\n",
              "      <script>\n",
              "        const buttonEl =\n",
              "          document.querySelector('#df-3d851392-a94c-4bac-8a84-8fca49eb7573 button.colab-df-convert');\n",
              "        buttonEl.style.display =\n",
              "          google.colab.kernel.accessAllowed ? 'block' : 'none';\n",
              "\n",
              "        async function convertToInteractive(key) {\n",
              "          const element = document.querySelector('#df-3d851392-a94c-4bac-8a84-8fca49eb7573');\n",
              "          const dataTable =\n",
              "            await google.colab.kernel.invokeFunction('convertToInteractive',\n",
              "                                                     [key], {});\n",
              "          if (!dataTable) return;\n",
              "\n",
              "          const docLinkHtml = 'Like what you see? Visit the ' +\n",
              "            '<a target=\"_blank\" href=https://colab.research.google.com/notebooks/data_table.ipynb>data table notebook</a>'\n",
              "            + ' to learn more about interactive tables.';\n",
              "          element.innerHTML = '';\n",
              "          dataTable['output_type'] = 'display_data';\n",
              "          await google.colab.output.renderOutput(dataTable, element);\n",
              "          const docLink = document.createElement('div');\n",
              "          docLink.innerHTML = docLinkHtml;\n",
              "          element.appendChild(docLink);\n",
              "        }\n",
              "      </script>\n",
              "    </div>\n",
              "  </div>\n",
              "  "
            ]
          },
          "metadata": {},
          "execution_count": 126
        }
      ]
    },
    {
      "cell_type": "code",
      "source": [
        "df.to_csv('/content/drive/MyDrive/colab/trigram_fre.csv')  "
      ],
      "metadata": {
        "id": "Ej_ACssfg9rm"
      },
      "execution_count": null,
      "outputs": []
    },
    {
      "cell_type": "code",
      "source": [
        ""
      ],
      "metadata": {
        "id": "_B3FsOVLi9g9"
      },
      "execution_count": null,
      "outputs": []
    }
  ]
}